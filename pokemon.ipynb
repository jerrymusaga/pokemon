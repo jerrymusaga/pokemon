{
 "cells": [
  {
   "cell_type": "code",
   "execution_count": 8,
   "id": "2ce44f6f",
   "metadata": {},
   "outputs": [
    {
     "name": "stdout",
     "output_type": "stream",
     "text": [
      "   Unnamed: 0                                          image_url  Id  \\\n",
      "0           0  https://img.pokemondb.net/sprites/sword-shield...   1   \n",
      "1           1  https://img.pokemondb.net/sprites/sword-shield...   2   \n",
      "2           2  https://img.pokemondb.net/sprites/sword-shield...   3   \n",
      "3           3  https://img.pokemondb.net/sprites/sword-shield...   3   \n",
      "4           4  https://img.pokemondb.net/sprites/sword-shield...   4   \n",
      "\n",
      "                    Names  Type1   Type2  Total  HP  Attack  Defense  Sp. Atk  \\\n",
      "0               Bulbasaur  Grass  Poison    318  45      49       49       65   \n",
      "1                 Ivysaur  Grass  Poison    405  60      62       63       80   \n",
      "2                Venusaur  Grass  Poison    525  80      82       83      100   \n",
      "3  Venusaur Mega Venusaur  Grass  Poison    625  80     100      123      122   \n",
      "4              Charmander   Fire     NaN    309  39      52       43       60   \n",
      "\n",
      "   Sp. Def  Speed  \n",
      "0       65     45  \n",
      "1       80     60  \n",
      "2      100     80  \n",
      "3      120     80  \n",
      "4       50     65  \n"
     ]
    }
   ],
   "source": [
    "import pandas as pd\n",
    "import seaborn as sns\n",
    "import matplotlib.pyplot as plt\n",
    "\n",
    "# Load the dataset\n",
    "df = pd.read_csv(\"./dataset/pokemon.csv\")\n",
    "\n",
    "# Display the first few rows\n",
    "print(df.head())\n"
   ]
  },
  {
   "cell_type": "code",
   "execution_count": 9,
   "id": "106f9577",
   "metadata": {},
   "outputs": [
    {
     "name": "stdout",
     "output_type": "stream",
     "text": [
      "Dataset Dimensions: (1194, 13)\n"
     ]
    }
   ],
   "source": [
    "# Check the dimensions of the dataset\n",
    "print(\"Dataset Dimensions:\", df.shape)"
   ]
  },
  {
   "cell_type": "code",
   "execution_count": 10,
   "id": "eff5fe40",
   "metadata": {},
   "outputs": [
    {
     "name": "stdout",
     "output_type": "stream",
     "text": [
      "        Unnamed: 0           Id        Total           HP       Attack  \\\n",
      "count  1194.000000  1194.000000  1194.000000  1194.000000  1194.000000   \n",
      "mean    596.500000   492.746231   441.206868    70.883585    80.948911   \n",
      "std     344.822418   293.719541   121.015326    26.861740    32.126164   \n",
      "min       0.000000     1.000000   175.000000     1.000000     5.000000   \n",
      "25%     298.250000   235.250000   330.000000    52.000000    56.000000   \n",
      "50%     596.500000   486.500000   460.500000    70.000000    80.000000   \n",
      "75%     894.750000   741.750000   520.000000    85.000000   100.000000   \n",
      "max    1193.000000  1010.000000  1125.000000   255.000000   190.000000   \n",
      "\n",
      "           Defense      Sp. Atk      Sp. Def        Speed  \n",
      "count  1194.000000  1194.000000  1194.000000  1194.000000  \n",
      "mean     74.587102    72.881072    72.123953    69.782245  \n",
      "std      30.678626    32.702411    27.628412    30.200828  \n",
      "min       5.000000    10.000000    20.000000     5.000000  \n",
      "25%      51.250000    50.000000    50.000000    45.000000  \n",
      "50%      70.000000    65.000000    70.000000    67.500000  \n",
      "75%      90.000000    95.000000    90.000000    90.750000  \n",
      "max     250.000000   194.000000   250.000000   200.000000  \n"
     ]
    }
   ],
   "source": [
    "# Summary statistics\n",
    "print(df.describe())"
   ]
  },
  {
   "cell_type": "code",
   "execution_count": 11,
   "id": "14f5b4d9",
   "metadata": {},
   "outputs": [
    {
     "name": "stdout",
     "output_type": "stream",
     "text": [
      "<class 'pandas.core.frame.DataFrame'>\n",
      "RangeIndex: 1194 entries, 0 to 1193\n",
      "Data columns (total 13 columns):\n",
      " #   Column      Non-Null Count  Dtype \n",
      "---  ------      --------------  ----- \n",
      " 0   Unnamed: 0  1194 non-null   int64 \n",
      " 1   image_url   1194 non-null   object\n",
      " 2   Id          1194 non-null   int64 \n",
      " 3   Names       1194 non-null   object\n",
      " 4   Type1       1194 non-null   object\n",
      " 5   Type2       652 non-null    object\n",
      " 6   Total       1194 non-null   int64 \n",
      " 7   HP          1194 non-null   int64 \n",
      " 8   Attack      1194 non-null   int64 \n",
      " 9   Defense     1194 non-null   int64 \n",
      " 10  Sp. Atk     1194 non-null   int64 \n",
      " 11  Sp. Def     1194 non-null   int64 \n",
      " 12  Speed       1194 non-null   int64 \n",
      "dtypes: int64(9), object(4)\n",
      "memory usage: 121.4+ KB\n",
      "None\n"
     ]
    }
   ],
   "source": [
    "# Check the data types of each column\n",
    "print(df.info())\n"
   ]
  },
  {
   "cell_type": "code",
   "execution_count": 12,
   "id": "d67e9bda",
   "metadata": {},
   "outputs": [
    {
     "name": "stdout",
     "output_type": "stream",
     "text": [
      "Unnamed: 0      0\n",
      "image_url       0\n",
      "Id              0\n",
      "Names           0\n",
      "Type1           0\n",
      "Type2         542\n",
      "Total           0\n",
      "HP              0\n",
      "Attack          0\n",
      "Defense         0\n",
      "Sp. Atk         0\n",
      "Sp. Def         0\n",
      "Speed           0\n",
      "dtype: int64\n"
     ]
    }
   ],
   "source": [
    "# Checking for missing values\n",
    "print(df.isnull().sum())"
   ]
  },
  {
   "cell_type": "code",
   "execution_count": 14,
   "id": "d8fd64d8",
   "metadata": {},
   "outputs": [
    {
     "name": "stdout",
     "output_type": "stream",
     "text": [
      "Total number of Pokémon: 1194\n"
     ]
    }
   ],
   "source": [
    "total_pokemon = len(df)\n",
    "print(\"Total number of Pokémon:\", total_pokemon)"
   ]
  },
  {
   "cell_type": "code",
   "execution_count": 19,
   "id": "8d58d991",
   "metadata": {},
   "outputs": [
    {
     "name": "stdout",
     "output_type": "stream",
     "text": [
      "Primary Types of Pokémon:\n",
      "Type1\n",
      "Water       150\n",
      "Normal      131\n",
      "Grass       105\n",
      "Bug          91\n",
      "Psychic      82\n",
      "Fire         75\n",
      "Electric     73\n",
      "Rock         67\n",
      "Dark         56\n",
      "Fighting     50\n",
      "Dragon       49\n",
      "Ghost        47\n",
      "Ground       46\n",
      "Poison       45\n",
      "Ice          43\n",
      "Steel        43\n",
      "Fairy        31\n",
      "Flying       10\n",
      "Name: count, dtype: int64\n",
      "\n",
      "Secondary Types of Pokémon:\n",
      "Type2\n",
      "Flying      122\n",
      "Psychic      49\n",
      "Poison       47\n",
      "Ground       43\n",
      "Fairy        42\n",
      "Fighting     41\n",
      "Steel        40\n",
      "Dragon       39\n",
      "Ghost        37\n",
      "Grass        33\n",
      "Dark         33\n",
      "Water        25\n",
      "Ice          22\n",
      "Fire         20\n",
      "Rock         19\n",
      "Normal       18\n",
      "Electric     13\n",
      "Bug           9\n",
      "Name: count, dtype: int64\n"
     ]
    }
   ],
   "source": [
    "# Count the frequency of each type\n",
    "type1_counts = df['Type1'].value_counts()\n",
    "type2_counts = df['Type2'].value_counts()\n",
    "\n",
    "# Display the types and their frequencies\n",
    "print(\"Primary Types of Pokémon:\")\n",
    "print(type1_counts)\n",
    "\n",
    "print(\"\\nSecondary Types of Pokémon:\")\n",
    "print(type2_counts)"
   ]
  },
  {
   "cell_type": "code",
   "execution_count": 18,
   "id": "c1923863",
   "metadata": {},
   "outputs": [
    {
     "name": "stdout",
     "output_type": "stream",
     "text": [
      "Index(['Unnamed: 0', 'image_url', 'Id', 'Names', 'Type1', 'Type2', 'Total',\n",
      "       'HP', 'Attack', 'Defense', 'Sp. Atk', 'Sp. Def', 'Speed'],\n",
      "      dtype='object')\n"
     ]
    }
   ],
   "source": [
    "# Print the column names\n",
    "print(df.columns)"
   ]
  },
  {
   "cell_type": "code",
   "execution_count": 20,
   "id": "a26b2579",
   "metadata": {},
   "outputs": [
    {
     "name": "stdout",
     "output_type": "stream",
     "text": [
      "Summary Statistics for Base Stats:\n",
      "                HP       Attack      Defense      Sp. Atk      Sp. Def  \\\n",
      "count  1194.000000  1194.000000  1194.000000  1194.000000  1194.000000   \n",
      "mean     70.883585    80.948911    74.587102    72.881072    72.123953   \n",
      "std      26.861740    32.126164    30.678626    32.702411    27.628412   \n",
      "min       1.000000     5.000000     5.000000    10.000000    20.000000   \n",
      "25%      52.000000    56.000000    51.250000    50.000000    50.000000   \n",
      "50%      70.000000    80.000000    70.000000    65.000000    70.000000   \n",
      "75%      85.000000   100.000000    90.000000    95.000000    90.000000   \n",
      "max     255.000000   190.000000   250.000000   194.000000   250.000000   \n",
      "\n",
      "             Speed  \n",
      "count  1194.000000  \n",
      "mean     69.782245  \n",
      "std      30.200828  \n",
      "min       5.000000  \n",
      "25%      45.000000  \n",
      "50%      67.500000  \n",
      "75%      90.750000  \n",
      "max     200.000000  \n"
     ]
    }
   ],
   "source": [
    "# Calculate descriptive statistics for base stats\n",
    "base_stats = df[['HP', 'Attack', 'Defense', 'Sp. Atk', 'Sp. Def', 'Speed']]\n",
    "stats_summary = base_stats.describe()\n",
    "\n",
    "# Display the summary statistics\n",
    "print(\"Summary Statistics for Base Stats:\")\n",
    "print(stats_summary)"
   ]
  },
  {
   "cell_type": "code",
   "execution_count": null,
   "id": "fdf100e0",
   "metadata": {},
   "outputs": [],
   "source": []
  }
 ],
 "metadata": {
  "kernelspec": {
   "display_name": "Python 3 (ipykernel)",
   "language": "python",
   "name": "python3"
  },
  "language_info": {
   "codemirror_mode": {
    "name": "ipython",
    "version": 3
   },
   "file_extension": ".py",
   "mimetype": "text/x-python",
   "name": "python",
   "nbconvert_exporter": "python",
   "pygments_lexer": "ipython3",
   "version": "3.10.6"
  }
 },
 "nbformat": 4,
 "nbformat_minor": 5
}
