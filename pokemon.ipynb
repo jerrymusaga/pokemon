{
 "cells": [
  {
   "cell_type": "code",
   "execution_count": 2,
   "id": "2ce44f6f",
   "metadata": {},
   "outputs": [
    {
     "name": "stdout",
     "output_type": "stream",
     "text": [
      "   Unnamed: 0                                          image_url  Id  \\\n",
      "0           0  https://img.pokemondb.net/sprites/sword-shield...   1   \n",
      "1           1  https://img.pokemondb.net/sprites/sword-shield...   2   \n",
      "2           2  https://img.pokemondb.net/sprites/sword-shield...   3   \n",
      "3           3  https://img.pokemondb.net/sprites/sword-shield...   3   \n",
      "4           4  https://img.pokemondb.net/sprites/sword-shield...   4   \n",
      "\n",
      "                    Names  Type1   Type2  Total  HP  Attack  Defense  Sp. Atk  \\\n",
      "0               Bulbasaur  Grass  Poison    318  45      49       49       65   \n",
      "1                 Ivysaur  Grass  Poison    405  60      62       63       80   \n",
      "2                Venusaur  Grass  Poison    525  80      82       83      100   \n",
      "3  Venusaur Mega Venusaur  Grass  Poison    625  80     100      123      122   \n",
      "4              Charmander   Fire     NaN    309  39      52       43       60   \n",
      "\n",
      "   Sp. Def  Speed  \n",
      "0       65     45  \n",
      "1       80     60  \n",
      "2      100     80  \n",
      "3      120     80  \n",
      "4       50     65  \n"
     ]
    }
   ],
   "source": [
    "import pandas as pd\n",
    "\n",
    "# Load the dataset\n",
    "df = pd.read_csv(\"./dataset/pokemon.csv\")\n",
    "\n",
    "# Display the first few rows\n",
    "print(df.head())\n"
   ]
  },
  {
   "cell_type": "code",
   "execution_count": null,
   "id": "106f9577",
   "metadata": {},
   "outputs": [],
   "source": []
  }
 ],
 "metadata": {
  "kernelspec": {
   "display_name": "Python 3 (ipykernel)",
   "language": "python",
   "name": "python3"
  },
  "language_info": {
   "codemirror_mode": {
    "name": "ipython",
    "version": 3
   },
   "file_extension": ".py",
   "mimetype": "text/x-python",
   "name": "python",
   "nbconvert_exporter": "python",
   "pygments_lexer": "ipython3",
   "version": "3.10.6"
  }
 },
 "nbformat": 4,
 "nbformat_minor": 5
}
