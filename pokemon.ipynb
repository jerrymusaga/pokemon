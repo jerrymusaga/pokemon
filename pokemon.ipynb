{
 "cells": [
  {
   "cell_type": "code",
   "execution_count": 4,
   "id": "2ce44f6f",
   "metadata": {},
   "outputs": [
    {
     "name": "stdout",
     "output_type": "stream",
     "text": [
      "   Unnamed: 0                                          image_url  Id  \\\n",
      "0           0  https://img.pokemondb.net/sprites/sword-shield...   1   \n",
      "1           1  https://img.pokemondb.net/sprites/sword-shield...   2   \n",
      "2           2  https://img.pokemondb.net/sprites/sword-shield...   3   \n",
      "3           3  https://img.pokemondb.net/sprites/sword-shield...   3   \n",
      "4           4  https://img.pokemondb.net/sprites/sword-shield...   4   \n",
      "\n",
      "                    Names  Type1   Type2  Total  HP  Attack  Defense  Sp. Atk  \\\n",
      "0               Bulbasaur  Grass  Poison    318  45      49       49       65   \n",
      "1                 Ivysaur  Grass  Poison    405  60      62       63       80   \n",
      "2                Venusaur  Grass  Poison    525  80      82       83      100   \n",
      "3  Venusaur Mega Venusaur  Grass  Poison    625  80     100      123      122   \n",
      "4              Charmander   Fire     NaN    309  39      52       43       60   \n",
      "\n",
      "   Sp. Def  Speed  \n",
      "0       65     45  \n",
      "1       80     60  \n",
      "2      100     80  \n",
      "3      120     80  \n",
      "4       50     65  \n",
      "Dataset Dimensions: (1194, 13)\n",
      "        Unnamed: 0           Id        Total           HP       Attack  \\\n",
      "count  1194.000000  1194.000000  1194.000000  1194.000000  1194.000000   \n",
      "mean    596.500000   492.746231   441.206868    70.883585    80.948911   \n",
      "std     344.822418   293.719541   121.015326    26.861740    32.126164   \n",
      "min       0.000000     1.000000   175.000000     1.000000     5.000000   \n",
      "25%     298.250000   235.250000   330.000000    52.000000    56.000000   \n",
      "50%     596.500000   486.500000   460.500000    70.000000    80.000000   \n",
      "75%     894.750000   741.750000   520.000000    85.000000   100.000000   \n",
      "max    1193.000000  1010.000000  1125.000000   255.000000   190.000000   \n",
      "\n",
      "           Defense      Sp. Atk      Sp. Def        Speed  \n",
      "count  1194.000000  1194.000000  1194.000000  1194.000000  \n",
      "mean     74.587102    72.881072    72.123953    69.782245  \n",
      "std      30.678626    32.702411    27.628412    30.200828  \n",
      "min       5.000000    10.000000    20.000000     5.000000  \n",
      "25%      51.250000    50.000000    50.000000    45.000000  \n",
      "50%      70.000000    65.000000    70.000000    67.500000  \n",
      "75%      90.000000    95.000000    90.000000    90.750000  \n",
      "max     250.000000   194.000000   250.000000   200.000000  \n",
      "<class 'pandas.core.frame.DataFrame'>\n",
      "RangeIndex: 1194 entries, 0 to 1193\n",
      "Data columns (total 13 columns):\n",
      " #   Column      Non-Null Count  Dtype \n",
      "---  ------      --------------  ----- \n",
      " 0   Unnamed: 0  1194 non-null   int64 \n",
      " 1   image_url   1194 non-null   object\n",
      " 2   Id          1194 non-null   int64 \n",
      " 3   Names       1194 non-null   object\n",
      " 4   Type1       1194 non-null   object\n",
      " 5   Type2       652 non-null    object\n",
      " 6   Total       1194 non-null   int64 \n",
      " 7   HP          1194 non-null   int64 \n",
      " 8   Attack      1194 non-null   int64 \n",
      " 9   Defense     1194 non-null   int64 \n",
      " 10  Sp. Atk     1194 non-null   int64 \n",
      " 11  Sp. Def     1194 non-null   int64 \n",
      " 12  Speed       1194 non-null   int64 \n",
      "dtypes: int64(9), object(4)\n",
      "memory usage: 121.4+ KB\n",
      "None\n"
     ]
    }
   ],
   "source": [
    "import pandas as pd\n",
    "import seaborn as sns\n",
    "import matplotlib.pyplot as plt\n",
    "\n",
    "# Load the dataset\n",
    "df = pd.read_csv(\"./dataset/pokemon.csv\")\n",
    "\n",
    "# Display the first few rows\n",
    "print(df.head())\n",
    "\n",
    "\n",
    "\n",
    "# Check the data types of each column\n",
    "print(df.info())\n"
   ]
  },
  {
   "cell_type": "code",
   "execution_count": 5,
   "id": "106f9577",
   "metadata": {},
   "outputs": [
    {
     "name": "stdout",
     "output_type": "stream",
     "text": [
      "Dataset Dimensions: (1194, 13)\n"
     ]
    }
   ],
   "source": [
    "# Check the dimensions of the dataset\n",
    "print(\"Dataset Dimensions:\", df.shape)"
   ]
  },
  {
   "cell_type": "code",
   "execution_count": 6,
   "id": "d5048a30",
   "metadata": {},
   "outputs": [
    {
     "name": "stdout",
     "output_type": "stream",
     "text": [
      "        Unnamed: 0           Id        Total           HP       Attack  \\\n",
      "count  1194.000000  1194.000000  1194.000000  1194.000000  1194.000000   \n",
      "mean    596.500000   492.746231   441.206868    70.883585    80.948911   \n",
      "std     344.822418   293.719541   121.015326    26.861740    32.126164   \n",
      "min       0.000000     1.000000   175.000000     1.000000     5.000000   \n",
      "25%     298.250000   235.250000   330.000000    52.000000    56.000000   \n",
      "50%     596.500000   486.500000   460.500000    70.000000    80.000000   \n",
      "75%     894.750000   741.750000   520.000000    85.000000   100.000000   \n",
      "max    1193.000000  1010.000000  1125.000000   255.000000   190.000000   \n",
      "\n",
      "           Defense      Sp. Atk      Sp. Def        Speed  \n",
      "count  1194.000000  1194.000000  1194.000000  1194.000000  \n",
      "mean     74.587102    72.881072    72.123953    69.782245  \n",
      "std      30.678626    32.702411    27.628412    30.200828  \n",
      "min       5.000000    10.000000    20.000000     5.000000  \n",
      "25%      51.250000    50.000000    50.000000    45.000000  \n",
      "50%      70.000000    65.000000    70.000000    67.500000  \n",
      "75%      90.000000    95.000000    90.000000    90.750000  \n",
      "max     250.000000   194.000000   250.000000   200.000000  \n"
     ]
    }
   ],
   "source": [
    "# Summary statistics\n",
    "print(df.describe())"
   ]
  },
  {
   "cell_type": "code",
   "execution_count": null,
   "id": "b077ac21",
   "metadata": {},
   "outputs": [],
   "source": []
  }
 ],
 "metadata": {
  "kernelspec": {
   "display_name": "Python 3 (ipykernel)",
   "language": "python",
   "name": "python3"
  },
  "language_info": {
   "codemirror_mode": {
    "name": "ipython",
    "version": 3
   },
   "file_extension": ".py",
   "mimetype": "text/x-python",
   "name": "python",
   "nbconvert_exporter": "python",
   "pygments_lexer": "ipython3",
   "version": "3.10.6"
  }
 },
 "nbformat": 4,
 "nbformat_minor": 5
}
